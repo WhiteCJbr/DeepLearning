{
  "nbformat": 4,
  "nbformat_minor": 0,
  "metadata": {
    "colab": {
      "provenance": [],
      "authorship_tag": "ABX9TyN+bQgn0Ax3BX0qKiS1slIQ",
      "include_colab_link": true
    },
    "kernelspec": {
      "name": "python3",
      "display_name": "Python 3"
    },
    "language_info": {
      "name": "python"
    }
  },
  "cells": [
    {
      "cell_type": "markdown",
      "metadata": {
        "id": "view-in-github",
        "colab_type": "text"
      },
      "source": [
        "<a href=\"https://colab.research.google.com/github/WhiteCJbr/DeepLearning/blob/main/Classificacao_com_Keras.ipynb\" target=\"_parent\"><img src=\"https://colab.research.google.com/assets/colab-badge.svg\" alt=\"Open In Colab\"/></a>"
      ]
    },
    {
      "cell_type": "markdown",
      "source": [
        "Imports\n"
      ],
      "metadata": {
        "id": "SoKMmCOF3zfg"
      }
    },
    {
      "cell_type": "code",
      "source": [
        "import tensorflow\n",
        "from tensorflow import keras\n",
        "import matplotlib.pyplot as plt\n",
        "import numpy as np\n",
        "from tensorflow.keras.models import load_model"
      ],
      "metadata": {
        "id": "g9_vWmGb9evg"
      },
      "execution_count": 11,
      "outputs": []
    },
    {
      "cell_type": "markdown",
      "source": [
        "Carregando o Dataset"
      ],
      "metadata": {
        "id": "BQ5-c89q9qY-"
      }
    },
    {
      "cell_type": "code",
      "source": [
        "dataset = keras.datasets.fashion_mnist\n",
        "((imagens_treino, identificacoes_treino), (imagens_teste, identificacoes_teste)) = dataset.load_data() # ler os dados, devolve 2 tuplas"
      ],
      "metadata": {
        "id": "7wAMq5ax9hFE"
      },
      "execution_count": 2,
      "outputs": []
    },
    {
      "cell_type": "markdown",
      "source": [
        "Exploração dos Dados\n"
      ],
      "metadata": {
        "id": "-FXaPFNR9sl-"
      }
    },
    {
      "cell_type": "code",
      "source": [
        "len(imagens_treino)\n",
        "imagens_treino.shape # 60000 imagens de tamanho 28 x 28\n",
        "imagens_teste.shape\n",
        "len(identificacoes_teste)\n",
        "\n",
        "identificacoes_treino.min() # 0\n",
        "identificacoes_treino.max() # 9\n",
        "total_de_classificacoes = 10"
      ],
      "metadata": {
        "colab": {
          "base_uri": "https://localhost:8080/"
        },
        "id": "t9xe_nUL9jcq",
        "outputId": "dc85409d-c42f-485e-bc42-d567667b4c07"
      },
      "execution_count": 30,
      "outputs": [
        {
          "output_type": "execute_result",
          "data": {
            "text/plain": [
              "(10000, 28, 28)"
            ]
          },
          "metadata": {},
          "execution_count": 30
        }
      ]
    },
    {
      "cell_type": "markdown",
      "source": [
        "Exibição dos Dados"
      ],
      "metadata": {
        "id": "CeLl8tHt9x9M"
      }
    },
    {
      "cell_type": "code",
      "execution_count": null,
      "metadata": {
        "id": "y8jmrt1T3wwO"
      },
      "outputs": [],
      "source": [
        "nomes_de_classificacoes = ['Camiseta', 'Calca', 'Pullover', 'Vestido', 'Casaco', 'Sandalia', 'Camisa', 'Tenis', 'Bolsa', 'Bota']\n",
        "\n",
        "# plt.imshow(imagens_treino[0])\n",
        "# plt.title(identificacoes_treino[0])\n",
        "\n",
        "# for imagem in range(10):\n",
        "#   plt.subplot(2, 5, imagem+1)\n",
        "#   plt.imshow(imagens_treino[imagem])\n",
        "#   plt.title(nomes_de_classificacoes[identificacoes_treino[imagem]])\n",
        "\n",
        "plt.imshow(imagens_treino[0])\n",
        "plt.colorbar()"
      ]
    },
    {
      "cell_type": "markdown",
      "source": [
        "# Normalizando as Imagens\n"
      ],
      "metadata": {
        "id": "cIV3v1_nyD7R"
      }
    },
    {
      "cell_type": "code",
      "source": [
        "imagens_treino = imagens_treino/float(255)"
      ],
      "metadata": {
        "id": "hGhS0diXyHIV"
      },
      "execution_count": null,
      "outputs": []
    },
    {
      "cell_type": "markdown",
      "source": [
        "# Construção da Rede , Compilando, Treinando e Normalizadndo o Modelo"
      ],
      "metadata": {
        "id": "ubok9UxVjiLV"
      }
    },
    {
      "cell_type": "code",
      "source": [
        "modelo = keras.Sequential([\n",
        "    keras.layers.Flatten(input_shape=(28, 28)),                         # Tamanho da entrada, no caso das imagens, elas possuem 28px x 28px -> Achatamos essa entrada para um array de 1 dimensao\n",
        "    keras.layers.Dense(256, activation=tensorflow.nn.relu),             # Camada hidden, totalmente conectada com a primeira camada (entrada), com ativação ReLU\n",
        "    keras.layers.Dropout(0.2),                                          # -> Tratamento de Overfitting, é um tipo de normalização\n",
        "    # keras.layers.Dense(128, activation=tensorflow.nn.relu),\n",
        "    # keras.layers.Dense(64, activation=tensorflow.nn.relu),            # Nesse caso, essas camadas intermediárias ferraram com o cu do conde, então não vamos usar\n",
        "    keras.layers.Dense(10, activation=tensorflow.nn.softmax)            # 10 saídas\n",
        "])\n",
        "\n",
        "modelo.compile(optimizer='adam',                       # Precisamos compilar o modelo antes de treina-lo modelo.compile(optimizer, loss)\n",
        "               loss='sparse_categorical_crossentropy', # Definimos o loss\n",
        "               metrics=['accuracy'])                   # Definimos uma métrica para a acurácia\n",
        "\n",
        "historico = modelo.fit(imagens_treino, identificacoes_treino, epochs=10, validation_split=0.2) # (dados_treino, saídas_esperadas, epocas, % para validação )"
      ],
      "metadata": {
        "id": "KWBU9HG641eU"
      },
      "execution_count": null,
      "outputs": []
    },
    {
      "cell_type": "markdown",
      "source": [
        "# Salvar e Carregar o Modelo Treinado"
      ],
      "metadata": {
        "id": "d7jLVhcpwDoa"
      }
    },
    {
      "cell_type": "code",
      "source": [
        "modelo.save('modelo.h5')\n",
        "modelo_salvo = load_model('modelo.h5')"
      ],
      "metadata": {
        "id": "WS7JYNwiu5Ho"
      },
      "execution_count": null,
      "outputs": []
    },
    {
      "cell_type": "markdown",
      "source": [
        "# Gráfico de Acurácia dos treinos e validação por Época"
      ],
      "metadata": {
        "id": "-p-ZLMqRyz1O"
      }
    },
    {
      "cell_type": "code",
      "source": [
        "plt.plot(historico.history['accuracy'])\n",
        "plt.plot(historico.history['val_accuracy'])\n",
        "plt.title('Acurácia por épocas')\n",
        "plt.xlabel('épocas')\n",
        "plt.ylabel('acurácia')\n",
        "\n",
        "plt.legend(['treino', 'avaliação'])"
      ],
      "metadata": {
        "id": "ojRlxTpOqU7w"
      },
      "execution_count": null,
      "outputs": []
    },
    {
      "cell_type": "markdown",
      "source": [
        "# Gráfico de Perda dos treinos e validação por Época"
      ],
      "metadata": {
        "id": "1ejTR3guzAP6"
      }
    },
    {
      "cell_type": "code",
      "source": [
        "plt.plot(historico.history['loss'])\n",
        "plt.plot(historico.history['val_loss'])\n",
        "plt.title('Perda por épocas')\n",
        "plt.xlabel('épocas')\n",
        "plt.ylabel('perda')\n",
        "\n",
        "plt.legend(['treino', 'validação'])"
      ],
      "metadata": {
        "id": "VjWl88I2rGFL"
      },
      "execution_count": null,
      "outputs": []
    },
    {
      "cell_type": "markdown",
      "source": [
        "## Como Interpretar os gráficos de acurácia\n",
        "\n",
        "* Se a linha de treino está super bem e a linha e validação está abaixo do estimado, seu modelo está em **OVERFITTING**\n",
        "  * Sua rede está entendendo muito mais o treino do que a validação"
      ],
      "metadata": {
        "id": "yu_M3vtBsPeH"
      }
    },
    {
      "cell_type": "markdown",
      "source": [
        "## Como interpretar os gráficos de Perda\n",
        "\n",
        "* Caso seu gráfico de perda para os testes estejam muito mais baixos do que os de validação, seu modelo está em **OVERFITTING**\n",
        "  * Sua rede está entendendo muito mais o treino do que a validação"
      ],
      "metadata": {
        "id": "1xAzzrlKsrIh"
      }
    },
    {
      "cell_type": "markdown",
      "source": [
        "## COMO FAZER O TRATAMENTO DO OVERFITTING\n",
        "\n",
        "1. Análise do gráfico: verifique onde este gráfico está melhor em relação a perdas e acurácia, treine somente até onde ele está bom\n",
        "2. Modifique a camada hidden do seu modelo: Adicione uma camada de Dropout() para que seus neurônios não percam tanta informação no treinamento"
      ],
      "metadata": {
        "id": "IR_-a9jctj1y"
      }
    },
    {
      "cell_type": "markdown",
      "source": [
        "# Testando o modelo e o modelo_salvo"
      ],
      "metadata": {
        "id": "F6B5SBgipwTQ"
      }
    },
    {
      "cell_type": "code",
      "source": [
        "testes = modelo.predict(imagens_teste) # Fazer os testes para esse modelo criado\n",
        "print('Resultado Teste:  ',np.argmax(testes[2])) # Achar o maior valor (resposta da rede) usando o numpy\n",
        "print('Numero da imagem de teste: ', identificacoes_teste[2])\n",
        "\n",
        "testes_modelo_salvo = modelo_salvo.predict(imagens_teste)\n",
        "print('Resultado Teste Modelo_Salvo:  ',np.argmax(testes_modelo_salvo[2]))\n",
        "print('Numero da imagem de teste: ', identificacoes_teste[2])"
      ],
      "metadata": {
        "colab": {
          "base_uri": "https://localhost:8080/"
        },
        "id": "AZXzOvmffZb8",
        "outputId": "7a72874f-14ac-4cba-b09e-d08f2eeaa441"
      },
      "execution_count": 7,
      "outputs": [
        {
          "output_type": "stream",
          "name": "stdout",
          "text": [
            "313/313 [==============================] - 1s 3ms/step\n",
            "Resultado Teste:   1\n",
            "Numero da imagem de teste:  1\n",
            "313/313 [==============================] - 1s 3ms/step\n",
            "Resultado Teste Modelo_Salvo:   1\n",
            "Numero da imagem de teste:  1\n"
          ]
        }
      ]
    },
    {
      "cell_type": "markdown",
      "source": [
        "#Avaliando o Modelo\n"
      ],
      "metadata": {
        "id": "9aYT0j9WpsGZ"
      }
    },
    {
      "cell_type": "code",
      "source": [
        "perda_teste, acuracia_teste = modelo.evaluate(imagens_teste, identificacoes_teste)\n",
        "print('Perda do teste: ', perda_teste)\n",
        "print('Acurácia do teste: ', acuracia_teste)"
      ],
      "metadata": {
        "colab": {
          "base_uri": "https://localhost:8080/"
        },
        "id": "OeuJjwt9o8Fe",
        "outputId": "989a23bf-8838-4d6c-bd5f-c3e8cde3a800"
      },
      "execution_count": 8,
      "outputs": [
        {
          "output_type": "stream",
          "name": "stdout",
          "text": [
            "313/313 [==============================] - 1s 2ms/step - loss: 53.6032 - accuracy: 0.8654\n",
            "Perda do teste:  53.60319900512695\n",
            "Acurácia do teste:  0.8654000163078308\n"
          ]
        }
      ]
    }
  ]
}